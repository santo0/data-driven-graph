{
 "cells": [
  {
   "cell_type": "code",
   "execution_count": 1,
   "id": "92d33046-8f21-4eff-bfc1-497bd8e69ffe",
   "metadata": {},
   "outputs": [],
   "source": [
    "import cvxpy as cp\n",
    "import numpy as np\n",
    "import pandas as pd\n",
    "import networkx as nx\n",
    "from sklearn.covariance import graphical_lasso, empirical_covariance\n",
    "from graph import draw_graph, Node, get_graph\n",
    "from data import get_nodes, get_scaled_data"
   ]
  },
  {
   "cell_type": "code",
   "execution_count": 2,
   "id": "618fe7ae-a113-494b-a1d3-69345520b05e",
   "metadata": {},
   "outputs": [],
   "source": [
    "nodes, nodes_ids = get_nodes()\n",
    "df = get_scaled_data()"
   ]
  },
  {
   "cell_type": "code",
   "execution_count": 3,
   "id": "bb432407-4902-4c18-8e10-c63c89d7f9fb",
   "metadata": {},
   "outputs": [],
   "source": [
    "numerical_columns = df.columns[1:]\n",
    "X = df[numerical_columns]\n",
    "S = empirical_covariance(X)"
   ]
  },
  {
   "cell_type": "code",
   "execution_count": null,
   "id": "30a39145-34a3-4900-b69d-00efa100f9ea",
   "metadata": {},
   "outputs": [],
   "source": []
  },
  {
   "cell_type": "code",
   "execution_count": 55,
   "id": "bdb0dd31-a486-4301-93e0-a8644e9d1280",
   "metadata": {},
   "outputs": [],
   "source": [
    "m,n = np.shape(X)\n",
    "L = cp.Variable((n,n), \"L\")\n",
    "Y = X.to_numpy().transpose()\n",
    "#Y = cp.Variable((n,n), 'Y')\n",
    "\n",
    "Alpha = 0.0025\n",
    "Beta = 0.5"
   ]
  },
  {
   "cell_type": "code",
   "execution_count": 59,
   "id": "87d28575-be1a-4f5c-84ed-1c8e21ee5411",
   "metadata": {},
   "outputs": [
    {
     "data": {
      "text/plain": [
       "12.326768530526996"
      ]
     },
     "execution_count": 59,
     "metadata": {},
     "output_type": "execute_result"
    }
   ],
   "source": [
    "# ineq is matrix of zeroes\n",
    "# cp.norm(X-Y, \"fro\")**2+ deleted because X=Y so 0\n",
    "# (np.ones((n,n))- np.identity(n))\n",
    "# First fix Y as X\n",
    "# With learned L, fix L and optimize for variable Y\n",
    "# cp.quad_form(Y, L)\n",
    "obj = cp.Minimize(Alpha*cp.trace(cp.quad_form(Y,L))+Beta*cp.norm(L,\"fro\")**2)\n",
    "const = [ cp.trace(L) == n, \n",
    "                   L==L.T,\n",
    "                   #L@(np.ones((n,n))- np.identity(n))<=0,\n",
    "                     L@np.ones((n,1)) == 0,\n",
    "                  ]\n",
    "\n",
    "for i in range(n):\n",
    "    for j in range(n):\n",
    "        if i != j:\n",
    "            const.append(L[i,j] <= 0)\n",
    "\n",
    "prob = cp.Problem(obj, const)\n",
    "prob.solve(solver=cp.ECOS)"
   ]
  },
  {
   "cell_type": "code",
   "execution_count": 60,
   "id": "41505f21-482d-4915-b458-0549311fbafa",
   "metadata": {},
   "outputs": [
    {
     "name": "stdout",
     "output_type": "stream",
     "text": [
      "minimize 0.0025 @ trace([[-0.81 -1.40 ... -0.27 -0.18]\n",
      " [-1.16 -1.56 ... 0.17 0.17]\n",
      " ...\n",
      " [-1.33 -0.43 ... -0.11 -0.51]\n",
      " [-0.31 -1.05 ... 0.54 0.70]].T @ L @ [[-0.81 -1.40 ... -0.27 -0.18]\n",
      " [-1.16 -1.56 ... 0.17 0.17]\n",
      " ...\n",
      " [-1.33 -0.43 ... -0.11 -0.51]\n",
      " [-0.31 -1.05 ... 0.54 0.70]]) + 0.5 @ power(Pnorm(reshape(L, (64,), F), 2), 2.0)\n",
      "subject to trace(L) == 8.0\n",
      "           L == L.T\n",
      "           L @ [[1.00]\n",
      " [1.00]\n",
      " ...\n",
      " [1.00]\n",
      " [1.00]] == 0.0\n",
      "           L[0, 1] <= 0.0\n",
      "           L[0, 2] <= 0.0\n",
      "           L[0, 3] <= 0.0\n",
      "           L[0, 4] <= 0.0\n",
      "           L[0, 5] <= 0.0\n",
      "           L[0, 6] <= 0.0\n",
      "           L[0, 7] <= 0.0\n",
      "           L[1, 0] <= 0.0\n",
      "           L[1, 2] <= 0.0\n",
      "           L[1, 3] <= 0.0\n",
      "           L[1, 4] <= 0.0\n",
      "           L[1, 5] <= 0.0\n",
      "           L[1, 6] <= 0.0\n",
      "           L[1, 7] <= 0.0\n",
      "           L[2, 0] <= 0.0\n",
      "           L[2, 1] <= 0.0\n",
      "           L[2, 3] <= 0.0\n",
      "           L[2, 4] <= 0.0\n",
      "           L[2, 5] <= 0.0\n",
      "           L[2, 6] <= 0.0\n",
      "           L[2, 7] <= 0.0\n",
      "           L[3, 0] <= 0.0\n",
      "           L[3, 1] <= 0.0\n",
      "           L[3, 2] <= 0.0\n",
      "           L[3, 4] <= 0.0\n",
      "           L[3, 5] <= 0.0\n",
      "           L[3, 6] <= 0.0\n",
      "           L[3, 7] <= 0.0\n",
      "           L[4, 0] <= 0.0\n",
      "           L[4, 1] <= 0.0\n",
      "           L[4, 2] <= 0.0\n",
      "           L[4, 3] <= 0.0\n",
      "           L[4, 5] <= 0.0\n",
      "           L[4, 6] <= 0.0\n",
      "           L[4, 7] <= 0.0\n",
      "           L[5, 0] <= 0.0\n",
      "           L[5, 1] <= 0.0\n",
      "           L[5, 2] <= 0.0\n",
      "           L[5, 3] <= 0.0\n",
      "           L[5, 4] <= 0.0\n",
      "           L[5, 6] <= 0.0\n",
      "           L[5, 7] <= 0.0\n",
      "           L[6, 0] <= 0.0\n",
      "           L[6, 1] <= 0.0\n",
      "           L[6, 2] <= 0.0\n",
      "           L[6, 3] <= 0.0\n",
      "           L[6, 4] <= 0.0\n",
      "           L[6, 5] <= 0.0\n",
      "           L[6, 7] <= 0.0\n",
      "           L[7, 0] <= 0.0\n",
      "           L[7, 1] <= 0.0\n",
      "           L[7, 2] <= 0.0\n",
      "           L[7, 3] <= 0.0\n",
      "           L[7, 4] <= 0.0\n",
      "           L[7, 5] <= 0.0\n",
      "           L[7, 6] <= 0.0\n"
     ]
    }
   ],
   "source": [
    "print(prob)"
   ]
  },
  {
   "cell_type": "code",
   "execution_count": 61,
   "id": "d19962ce-5889-4fc2-932f-cc0cb8236166",
   "metadata": {},
   "outputs": [
    {
     "name": "stdout",
     "output_type": "stream",
     "text": [
      "\n",
      "The optimal value is 12.326768530526996\n",
      "A solution Theta is\n",
      "[[ 1.12997502e+00 -1.91196608e-01 -8.05417006e-01 -1.18581317e-09\n",
      "  -1.64731087e-09 -6.90312603e-02 -6.43301417e-02 -2.07073811e-09]\n",
      " [-1.91196608e-01  9.56790632e-01 -6.10204746e-02 -5.30249784e-02\n",
      "  -9.04485661e-02 -7.36891307e-02 -4.87410841e-01 -3.36229044e-08]\n",
      " [-8.05417006e-01 -6.10204746e-02  8.93351026e-01 -9.80924881e-10\n",
      "  -1.05014600e-09 -2.69135385e-02 -3.67701872e-09 -1.43498316e-09]\n",
      " [-1.18565771e-09 -5.30249784e-02 -9.80718242e-10  9.69297885e-01\n",
      "  -4.77197573e-01 -6.10884906e-09 -1.68142929e-01 -2.70932397e-01]\n",
      " [-1.64722918e-09 -9.04485661e-02 -1.05001341e-09 -4.77197573e-01\n",
      "   1.31011188e+00 -3.94631936e-02 -2.75155102e-01 -4.27847445e-01]\n",
      " [-6.90312603e-02 -7.36891307e-02 -2.69135385e-02 -6.10880290e-09\n",
      "  -3.94631936e-02  4.79813123e-01 -3.31719203e-09 -2.70715990e-01]\n",
      " [-6.43301417e-02 -4.87410841e-01 -3.67683619e-09 -1.68142929e-01\n",
      "  -2.75155102e-01 -3.31727682e-09  1.14310179e+00 -1.48062772e-01]\n",
      " [-2.07058481e-09 -3.36230752e-08 -1.43477944e-09 -2.70932397e-01\n",
      "  -4.27847445e-01 -2.70715990e-01 -1.48062772e-01  1.11755864e+00]]\n",
      "7.999999999999895\n",
      "[[ 0.         -0.19119661 -0.80541701  0.          0.         -0.06903126\n",
      "  -0.06433014  0.        ]\n",
      " [-0.19119661  0.         -0.06102047 -0.05302498 -0.09044857 -0.07368913\n",
      "  -0.48741084  0.        ]\n",
      " [-0.80541701 -0.06102047  0.          0.          0.         -0.02691354\n",
      "   0.          0.        ]\n",
      " [ 0.         -0.05302498  0.          0.         -0.47719757  0.\n",
      "  -0.16814293 -0.2709324 ]\n",
      " [ 0.         -0.09044857  0.         -0.47719757  0.         -0.03946319\n",
      "  -0.2751551  -0.42784744]\n",
      " [-0.06903126 -0.07368913 -0.02691354  0.         -0.03946319  0.\n",
      "   0.         -0.27071599]\n",
      " [-0.06433014 -0.48741084  0.         -0.16814293 -0.2751551   0.\n",
      "   0.         -0.14806277]\n",
      " [ 0.          0.          0.         -0.2709324  -0.42784744 -0.27071599\n",
      "  -0.14806277  0.        ]]\n"
     ]
    }
   ],
   "source": [
    "print(\"\\nThe optimal value is\", prob.value)\n",
    "print(\"A solution Theta is\")\n",
    "print(L.value)\n",
    "print(np.sum(np.trace(L.value)))\n",
    "res = L.value\n",
    "for i in range(n):\n",
    "    for j in range(n):\n",
    "        if -res[i][j] < 0.0001:\n",
    "            res[i][j] = 0\n",
    "print(res)"
   ]
  },
  {
   "cell_type": "code",
   "execution_count": null,
   "id": "87d9b38e-a238-4484-b1d4-82ec4861822f",
   "metadata": {},
   "outputs": [],
   "source": []
  }
 ],
 "metadata": {
  "kernelspec": {
   "display_name": "hw2_env",
   "language": "python",
   "name": "hw2_env"
  },
  "language_info": {
   "codemirror_mode": {
    "name": "ipython",
    "version": 3
   },
   "file_extension": ".py",
   "mimetype": "text/x-python",
   "name": "python",
   "nbconvert_exporter": "python",
   "pygments_lexer": "ipython3",
   "version": "3.10.12"
  }
 },
 "nbformat": 4,
 "nbformat_minor": 5
}
