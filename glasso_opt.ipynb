{
 "cells": [
  {
   "cell_type": "code",
   "execution_count": 1,
   "id": "285ef6bb-285e-4f3f-b7c7-49c8c011328c",
   "metadata": {},
   "outputs": [],
   "source": [
    "import cvxpy as cp\n",
    "import numpy as np\n",
    "import pandas as pd\n",
    "import networkx as nx\n",
    "from sklearn.covariance import graphical_lasso, empirical_covariance\n",
    "from graph import draw_graph, Node, get_graph\n",
    "from data import get_nodes, get_scaled_data"
   ]
  },
  {
   "cell_type": "code",
   "execution_count": 2,
   "id": "494750c9-a57b-4cd9-879f-85dac7572174",
   "metadata": {},
   "outputs": [],
   "source": [
    "nodes, nodes_ids = get_nodes()\n",
    "df = get_scaled_data()"
   ]
  },
  {
   "cell_type": "code",
   "execution_count": 3,
   "id": "6a00678f-ed04-4d26-8dda-4394095acbc4",
   "metadata": {},
   "outputs": [],
   "source": [
    "numerical_columns = df.columns[1:]\n",
    "S = empirical_covariance(df[numerical_columns])"
   ]
  },
  {
   "cell_type": "code",
   "execution_count": 4,
   "id": "21e3b0e0-6c84-4fbf-882a-835cdce1c4e6",
   "metadata": {},
   "outputs": [],
   "source": [
    "n = 8\n",
    "Theta = cp.Variable((n,n), 'theta')\n",
    "Lambda = 0.0000000003"
   ]
  },
  {
   "cell_type": "code",
   "execution_count": 5,
   "id": "e2103279-cce9-401f-81db-63e17012d331",
   "metadata": {},
   "outputs": [
    {
     "data": {
      "text/plain": [
       "7.999935997241563"
      ]
     },
     "execution_count": 5,
     "metadata": {},
     "output_type": "execute_result"
    }
   ],
   "source": [
    "# al norm, multiplicar Theta per matriu tot de uns excepte diagonal\n",
    "# ineq is matrix of zeroes\n",
    "prob = cp.Problem(cp.Minimize(cp.trace(S@Theta)-cp.log_det(Theta)+Lambda*cp.norm(Theta@(np.ones((n,n))- np.identity(n)))),\n",
    "                 [-Theta <= np.zeros((n,n))])\n",
    "prob.solve()"
   ]
  },
  {
   "cell_type": "code",
   "execution_count": 6,
   "id": "33734b9f-c0f1-40b1-801b-46258d826681",
   "metadata": {},
   "outputs": [
    {
     "name": "stdout",
     "output_type": "stream",
     "text": [
      "\n",
      "The optimal value is 7.999935997241563\n",
      "A solution Theta is\n",
      "[[ 9.99941517e-01 -8.56963527e-06 -9.03264536e-06 -1.09299549e-05\n",
      "  -1.05006338e-05 -9.25854775e-06 -1.11847107e-05 -1.20643555e-05]\n",
      " [-1.03539045e-05  9.99939713e-01 -1.06514105e-05 -1.22959432e-05\n",
      "  -1.18483646e-05 -1.06784111e-05 -1.25288547e-05 -1.34748517e-05]\n",
      " [-2.21088893e-06 -2.04538489e-06  1.00000070e+00 -4.19650411e-06\n",
      "  -3.79737942e-06 -2.57790161e-06 -4.53445989e-06 -5.34211527e-06]\n",
      " [ 1.73568992e-06  2.15397084e-06  1.64738427e-06  1.00000203e+00\n",
      "   5.08031046e-07  1.55757894e-06 -3.71037408e-07 -1.16493181e-06]\n",
      " [-1.35814391e-06 -9.21605474e-07 -1.47664596e-06 -3.01512386e-06\n",
      "   9.99989901e-01 -1.38472402e-06 -3.30460128e-06 -4.08618155e-06]\n",
      " [-1.16166116e-07  2.48239810e-07 -2.57276400e-07 -1.96568425e-06\n",
      "  -1.38483230e-06  1.00003588e+00 -2.14521620e-06 -2.89671694e-06]\n",
      " [ 5.19319513e-06  5.63332041e-06  5.02168949e-06  3.34122361e-06\n",
      "   3.93081464e-06  5.09030802e-06  1.00004702e+00  2.45526046e-06]\n",
      " [ 1.24826314e-05  1.28564044e-05  1.23831152e-05  1.07164102e-05\n",
      "   1.13183154e-05  1.25078883e-05  1.06243415e-05  1.00010384e+00]]\n",
      "A dual solution corresponding to the inequality constraints is\n",
      "[[0.         0.81604475 0.91928225 0.70323792 0.75313009 0.75212844\n",
      "  0.81007132 0.74768125]\n",
      " [0.81604291 0.         0.77200517 0.77731784 0.81415001 0.73760513\n",
      "  0.86970408 0.77828435]\n",
      " [0.91927203 0.77199679 0.         0.66865276 0.70349628 0.72369144\n",
      "  0.75028588 0.70766937]\n",
      " [0.70323566 0.77731743 0.66866073 0.         0.88380204 0.70943626\n",
      "  0.81422994 0.83018479]\n",
      " [0.75312717 0.81414892 0.70350357 0.88380137 0.         0.76285068\n",
      "  0.8633954  0.88819451]\n",
      " [0.75211013 0.73758866 0.72368334 0.7094202  0.7628353  0.\n",
      "  0.7104699  0.78675716]\n",
      " [0.81006    0.8696946  0.75028477 0.81422087 0.863387   0.71047689\n",
      "  0.         0.82380199]\n",
      " [0.74766303 0.77826796 0.70766136 0.83016882 0.88817921 0.78675724\n",
      "  0.82379508 0.        ]]\n"
     ]
    }
   ],
   "source": [
    "print(\"\\nThe optimal value is\", prob.value)\n",
    "print(\"A solution Theta is\")\n",
    "print(Theta.value)\n",
    "print(\"A dual solution corresponding to the inequality constraints is\")\n",
    "print(prob.constraints[0].dual_value)"
   ]
  },
  {
   "cell_type": "code",
   "execution_count": null,
   "id": "dafa6689-73ac-4801-b9b0-68a8bfc650ae",
   "metadata": {},
   "outputs": [],
   "source": []
  }
 ],
 "metadata": {
  "kernelspec": {
   "display_name": "hw2_env",
   "language": "python",
   "name": "hw2_env"
  },
  "language_info": {
   "codemirror_mode": {
    "name": "ipython",
    "version": 3
   },
   "file_extension": ".py",
   "mimetype": "text/x-python",
   "name": "python",
   "nbconvert_exporter": "python",
   "pygments_lexer": "ipython3",
   "version": "3.10.12"
  }
 },
 "nbformat": 4,
 "nbformat_minor": 5
}
