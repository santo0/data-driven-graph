{
 "cells": [
  {
   "cell_type": "code",
   "execution_count": 1,
   "id": "3ef03436-1154-4cf1-a93f-399ea861254a",
   "metadata": {},
   "outputs": [],
   "source": [
    "%load_ext autoreload\n",
    "%autoreload 2"
   ]
  },
  {
   "cell_type": "code",
   "execution_count": 23,
   "id": "5861dfa8-9c7d-446a-a869-e75c11e340f7",
   "metadata": {},
   "outputs": [],
   "source": [
    "import pandas as pd\n",
    "import numpy as np\n",
    "import networkx as nx\n",
    "from sklearn.covariance import graphical_lasso, empirical_covariance\n",
    "from graph import draw_graph, Node, get_graph\n",
    "from data import get_nodes, get_data, get_scaled_data"
   ]
  },
  {
   "cell_type": "code",
   "execution_count": 14,
   "id": "58650323-6797-438e-a7a2-cb6f3e87b18e",
   "metadata": {},
   "outputs": [],
   "source": [
    "df = get_scaled_data()"
   ]
  },
  {
   "cell_type": "code",
   "execution_count": 22,
   "id": "b9e07c9a-8b77-45d4-b9ca-8d12ad171391",
   "metadata": {},
   "outputs": [
    {
     "data": {
      "text/html": [
       "<div>\n",
       "<style scoped>\n",
       "    .dataframe tbody tr th:only-of-type {\n",
       "        vertical-align: middle;\n",
       "    }\n",
       "\n",
       "    .dataframe tbody tr th {\n",
       "        vertical-align: top;\n",
       "    }\n",
       "\n",
       "    .dataframe thead th {\n",
       "        text-align: right;\n",
       "    }\n",
       "</style>\n",
       "<table border=\"1\" class=\"dataframe\">\n",
       "  <thead>\n",
       "    <tr style=\"text-align: right;\">\n",
       "      <th></th>\n",
       "      <th>date</th>\n",
       "      <th>gracia</th>\n",
       "      <th>pr</th>\n",
       "      <th>eixample</th>\n",
       "      <th>prat</th>\n",
       "      <th>montcada</th>\n",
       "      <th>ciutadella</th>\n",
       "      <th>hebron</th>\n",
       "      <th>badalona</th>\n",
       "    </tr>\n",
       "  </thead>\n",
       "  <tbody>\n",
       "    <tr>\n",
       "      <th>0</th>\n",
       "      <td>2017-06-01 01:00:00</td>\n",
       "      <td>-0.813551</td>\n",
       "      <td>-1.164412</td>\n",
       "      <td>-0.337098</td>\n",
       "      <td>-0.693782</td>\n",
       "      <td>-0.533819</td>\n",
       "      <td>-0.172147</td>\n",
       "      <td>-1.327164</td>\n",
       "      <td>-0.306301</td>\n",
       "    </tr>\n",
       "    <tr>\n",
       "      <th>1</th>\n",
       "      <td>2017-06-01 02:00:00</td>\n",
       "      <td>-1.400495</td>\n",
       "      <td>-1.558343</td>\n",
       "      <td>-0.678212</td>\n",
       "      <td>-0.724890</td>\n",
       "      <td>-0.812994</td>\n",
       "      <td>-1.458819</td>\n",
       "      <td>-0.434462</td>\n",
       "      <td>-1.046763</td>\n",
       "    </tr>\n",
       "    <tr>\n",
       "      <th>2</th>\n",
       "      <td>2017-06-01 03:00:00</td>\n",
       "      <td>-1.626243</td>\n",
       "      <td>-1.558343</td>\n",
       "      <td>-1.555362</td>\n",
       "      <td>-0.880428</td>\n",
       "      <td>-0.999111</td>\n",
       "      <td>-1.648035</td>\n",
       "      <td>-0.648710</td>\n",
       "      <td>-1.282364</td>\n",
       "    </tr>\n",
       "    <tr>\n",
       "      <th>3</th>\n",
       "      <td>2017-06-01 04:00:00</td>\n",
       "      <td>-1.535944</td>\n",
       "      <td>-1.046232</td>\n",
       "      <td>-1.311709</td>\n",
       "      <td>-0.849321</td>\n",
       "      <td>-1.030131</td>\n",
       "      <td>-1.648035</td>\n",
       "      <td>-1.327164</td>\n",
       "      <td>-1.585280</td>\n",
       "    </tr>\n",
       "    <tr>\n",
       "      <th>4</th>\n",
       "      <td>2017-06-01 05:00:00</td>\n",
       "      <td>-0.316907</td>\n",
       "      <td>-0.809873</td>\n",
       "      <td>0.052746</td>\n",
       "      <td>-1.067074</td>\n",
       "      <td>-1.185228</td>\n",
       "      <td>-1.723722</td>\n",
       "      <td>-1.327164</td>\n",
       "      <td>-1.416994</td>\n",
       "    </tr>\n",
       "  </tbody>\n",
       "</table>\n",
       "</div>"
      ],
      "text/plain": [
       "                 date    gracia        pr  eixample      prat  montcada  \\\n",
       "0 2017-06-01 01:00:00 -0.813551 -1.164412 -0.337098 -0.693782 -0.533819   \n",
       "1 2017-06-01 02:00:00 -1.400495 -1.558343 -0.678212 -0.724890 -0.812994   \n",
       "2 2017-06-01 03:00:00 -1.626243 -1.558343 -1.555362 -0.880428 -0.999111   \n",
       "3 2017-06-01 04:00:00 -1.535944 -1.046232 -1.311709 -0.849321 -1.030131   \n",
       "4 2017-06-01 05:00:00 -0.316907 -0.809873  0.052746 -1.067074 -1.185228   \n",
       "\n",
       "   ciutadella    hebron  badalona  \n",
       "0   -0.172147 -1.327164 -0.306301  \n",
       "1   -1.458819 -0.434462 -1.046763  \n",
       "2   -1.648035 -0.648710 -1.282364  \n",
       "3   -1.648035 -1.327164 -1.585280  \n",
       "4   -1.723722 -1.327164 -1.416994  "
      ]
     },
     "execution_count": 22,
     "metadata": {},
     "output_type": "execute_result"
    }
   ],
   "source": [
    "df.head()"
   ]
  },
  {
   "cell_type": "markdown",
   "id": "4d953312-d5ef-47e7-b4de-eaa9f1e28126",
   "metadata": {},
   "source": [
    "# https://scikit-learn.org/stable/modules/covariance.html"
   ]
  },
  {
   "cell_type": "code",
   "execution_count": 25,
   "id": "c1181de7-b1e9-41db-ae62-703b1ec69f61",
   "metadata": {},
   "outputs": [],
   "source": [
    "numerical_columns = df.columns[1:]\n",
    "S = empirical_covariance(df[numerical_columns])"
   ]
  },
  {
   "cell_type": "code",
   "execution_count": 26,
   "id": "95dfd307-0e6b-4da6-82e3-b47f4bdd2820",
   "metadata": {},
   "outputs": [
    {
     "data": {
      "text/plain": [
       "array([[1.        , 0.816045  , 0.91928002, 0.70323741, 0.75313043,\n",
       "        0.75212655, 0.81007081, 0.74767966],\n",
       "       [0.816045  , 1.        , 0.77200543, 0.77731915, 0.81415208,\n",
       "        0.73760516, 0.86970529, 0.77828468],\n",
       "       [0.91928002, 0.77200543, 1.        , 0.66865991, 0.70350436,\n",
       "        0.7236974 , 0.75029329, 0.70767546],\n",
       "       [0.70323741, 0.77731915, 0.66865991, 1.        , 0.88380301,\n",
       "        0.70943551, 0.81423062, 0.83018417],\n",
       "       [0.75313043, 0.81415208, 0.70350436, 0.88380301, 1.        ,\n",
       "        0.76285091, 0.86339703, 0.8881948 ],\n",
       "       [0.75212655, 0.73760516, 0.7236974 , 0.70943551, 0.76285091,\n",
       "        1.        , 0.71048483, 0.78677069],\n",
       "       [0.81007081, 0.86970529, 0.75029329, 0.81423062, 0.86339703,\n",
       "        0.71048483, 1.        , 0.82380973],\n",
       "       [0.74767966, 0.77828468, 0.70767546, 0.83018417, 0.8881948 ,\n",
       "        0.78677069, 0.82380973, 1.        ]])"
      ]
     },
     "execution_count": 26,
     "metadata": {},
     "output_type": "execute_result"
    }
   ],
   "source": [
    "S"
   ]
  },
  {
   "cell_type": "code",
   "execution_count": 54,
   "id": "8a8438a5-f86e-473b-9e3d-e3ba654648db",
   "metadata": {},
   "outputs": [],
   "source": [
    "# aixo retorne la estiamted cov i la precission matrix (no la necessito)\n",
    "W, _ = graphical_lasso(S, alpha=0.0000000003, max_iter=1000)"
   ]
  },
  {
   "cell_type": "code",
   "execution_count": 55,
   "id": "19a07429-b238-4188-a546-d5e7d57af687",
   "metadata": {},
   "outputs": [
    {
     "data": {
      "text/plain": [
       "array([[1.        , 0.816045  , 0.91928002, 0.70323741, 0.75313043,\n",
       "        0.75212655, 0.81007081, 0.74767966],\n",
       "       [0.816045  , 1.        , 0.77200543, 0.77731915, 0.81415208,\n",
       "        0.73760516, 0.86970529, 0.77828468],\n",
       "       [0.91928002, 0.77200543, 1.        , 0.66865991, 0.70350436,\n",
       "        0.7236974 , 0.75029329, 0.70767546],\n",
       "       [0.70323741, 0.77731915, 0.66865991, 1.        , 0.88380301,\n",
       "        0.70943551, 0.81423062, 0.83018417],\n",
       "       [0.75313043, 0.81415208, 0.70350436, 0.88380301, 1.        ,\n",
       "        0.76285091, 0.86339703, 0.8881948 ],\n",
       "       [0.75212655, 0.73760516, 0.7236974 , 0.70943551, 0.76285091,\n",
       "        1.        , 0.71048483, 0.78677069],\n",
       "       [0.81007081, 0.86970529, 0.75029329, 0.81423062, 0.86339703,\n",
       "        0.71048483, 1.        , 0.82380973],\n",
       "       [0.74767966, 0.77828468, 0.70767546, 0.83018417, 0.8881948 ,\n",
       "        0.78677069, 0.82380973, 1.        ]])"
      ]
     },
     "execution_count": 55,
     "metadata": {},
     "output_type": "execute_result"
    }
   ],
   "source": [
    "W"
   ]
  },
  {
   "cell_type": "code",
   "execution_count": null,
   "id": "fd2b141f-01b4-48af-bf33-6af18d2d2de9",
   "metadata": {},
   "outputs": [],
   "source": []
  }
 ],
 "metadata": {
  "kernelspec": {
   "display_name": "hw2_env",
   "language": "python",
   "name": "hw2_env"
  },
  "language_info": {
   "codemirror_mode": {
    "name": "ipython",
    "version": 3
   },
   "file_extension": ".py",
   "mimetype": "text/x-python",
   "name": "python",
   "nbconvert_exporter": "python",
   "pygments_lexer": "ipython3",
   "version": "3.10.12"
  }
 },
 "nbformat": 4,
 "nbformat_minor": 5
}
